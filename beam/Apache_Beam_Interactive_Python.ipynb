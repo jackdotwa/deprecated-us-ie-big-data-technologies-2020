{
  "nbformat": 4,
  "nbformat_minor": 0,
  "metadata": {
    "colab": {
      "name": "Apache Beam Interactive - Python",
      "provenance": [],
      "collapsed_sections": [],
      "toc_visible": true
    },
    "kernelspec": {
      "name": "python3",
      "display_name": "Python 3"
    }
  },
  "cells": [
    {
      "cell_type": "markdown",
      "metadata": {
        "id": "lNKIMlEDZ_Vw",
        "colab_type": "text"
      },
      "source": [
        "# Interactive Beam\n",
        "\n",
        "In this notebook, we set up your development environment and work through a simple example using the [DirectRunner](https://beam.apache.org/documentation/runners/direct/). You can explore other runners with the [Beam Capatibility Matrix](https://beam.apache.org/documentation/runners/capability-matrix/).\n",
        "\n",
        "The expectation is that this notebook will help you explore the tutorial in a more interactive way.\n",
        "\n",
        "To learn more about Colab, see [Welcome to Colaboratory!](https://colab.sandbox.google.com/notebooks/welcome.ipynb)."
      ]
    },
    {
      "cell_type": "markdown",
      "metadata": {
        "id": "Fz6KSQ13_3Rr",
        "colab_type": "text"
      },
      "source": [
        "# Setup\n",
        "\n",
        "First, you need to set up your environment, which includes installing `apache-beam` and downloading a text file from Cloud Storage to your local file system. We are using this file to test your pipeline."
      ]
    },
    {
      "cell_type": "code",
      "metadata": {
        "id": "GOOk81Jj_yUy",
        "colab_type": "code",
        "colab": {}
      },
      "source": [
        "# Run and print a shell command.\n",
        "def run(cmd):\n",
        "  print('>> {}'.format(cmd))\n",
        "  !{cmd}\n",
        "  print('')\n",
        "\n",
        "run('pip install --upgrade pip')\n",
        "\n",
        "# Install apache-beam.\n",
        "run('pip install --quiet apache-beam')\n",
        "\n",
        "# Copy the input file into the local file system.\n",
        "run('mkdir -p data')\n",
        "run('gsutil cp gs://dataflow-samples/shakespeare/kinglear.txt data/')"
      ],
      "execution_count": null,
      "outputs": []
    },
    {
      "cell_type": "code",
      "metadata": {
        "id": "c35B2XSSv0Rk",
        "colab_type": "code",
        "colab": {}
      },
      "source": [
        "! wc -l data/kinglear.txt\n"
      ],
      "execution_count": null,
      "outputs": []
    },
    {
      "cell_type": "code",
      "metadata": {
        "id": "SnRHHTI6RDAk",
        "colab_type": "code",
        "colab": {}
      },
      "source": [
        "\n",
        "! head -3 data/kinglear.txt"
      ],
      "execution_count": null,
      "outputs": []
    },
    {
      "cell_type": "code",
      "metadata": {
        "id": "oUqfqWyMuIfR",
        "colab_type": "code",
        "colab": {}
      },
      "source": [
        "import apache_beam as beam\n",
        "import re\n",
        "\n",
        "inputs_pattern = 'data/*'\n",
        "outputs_prefix = 'outputs/part'"
      ],
      "execution_count": null,
      "outputs": []
    },
    {
      "cell_type": "code",
      "metadata": {
        "id": "b4LZ-GwZ7yHO",
        "colab_type": "code",
        "colab": {}
      },
      "source": [
        ""
      ],
      "execution_count": null,
      "outputs": []
    },
    {
      "cell_type": "markdown",
      "metadata": {
        "id": "0fntXsJh7y7b",
        "colab_type": "text"
      },
      "source": [
        "## How to interactively work with Beam\n",
        "\n",
        "Here is an example of how to work iteratively with beam in order to understand what is happening in your pipeline.\n",
        "\n",
        "Firstly, reduce the size of the King Lear file to be manageable"
      ]
    },
    {
      "cell_type": "code",
      "metadata": {
        "id": "cA9P9WEe661s",
        "colab_type": "code",
        "colab": {}
      },
      "source": [
        "\n",
        "! head -10 data/kinglear.txt > data/small.txt\n",
        "! wc -l data/small.txt"
      ],
      "execution_count": null,
      "outputs": []
    },
    {
      "cell_type": "markdown",
      "metadata": {
        "id": "VbQtmvTF8I2A",
        "colab_type": "text"
      },
      "source": [
        "Create a custom print function (the python3 function `print` is supposed to work but we define our own here). Then it is possible to see what you are doing to the file.\n",
        "\n",
        "But something is wrong... why is it printing twice, see [SO](https://stackoverflow.com/a/52282001/1185293)"
      ]
    },
    {
      "cell_type": "code",
      "metadata": {
        "id": "HRncM_GJ6Jsk",
        "colab_type": "code",
        "colab": {}
      },
      "source": [
        "def myprint(x):\n",
        "  print('{}'.format(x))\n",
        "\n",
        "with beam.Pipeline() as pipeline:\n",
        "  (pipeline \n",
        "      | 'Read lines' >> beam.io.ReadFromText('data/small.txt')\n",
        "      | \"print\" >> beam.Map(myprint)\n",
        "  )\n",
        "\n",
        "result = pipeline.run()\n",
        "result.wait_until_finish()"
      ],
      "execution_count": null,
      "outputs": []
    },
    {
      "cell_type": "markdown",
      "metadata": {
        "id": "qecOY9oy-t_I",
        "colab_type": "text"
      },
      "source": [
        "Now, let's break split each line on spaces and get the words out."
      ]
    },
    {
      "cell_type": "code",
      "metadata": {
        "id": "cSTmuelL-p7-",
        "colab_type": "code",
        "colab": {}
      },
      "source": [
        "\n",
        "with beam.Pipeline() as pipeline:\n",
        "  (pipeline \n",
        "      | 'Read lines' >> beam.io.ReadFromText('data/small.txt')\n",
        "      | 'get words' >> beam.FlatMap(lambda line: re.findall(r\"[a-zA-Z']+\", line))\n",
        "      | \"print\" >> beam.Map(myprint)\n",
        "  )"
      ],
      "execution_count": null,
      "outputs": []
    },
    {
      "cell_type": "markdown",
      "metadata": {
        "id": "m1b1x1qT_x0y",
        "colab_type": "text"
      },
      "source": [
        "Recall that `flatMap`s typically act on something (a function, iterable or variable) and apply a function to that something to produce a list of elements. See [this](https://beam.apache.org/documentation/transforms/python/elementwise/flatmap/) great example of how FlatMap works in Beam, and this answer on [SO](https://stackoverflow.com/a/45682977/1185293) for a simple explanation.\n",
        "\n",
        "In the case above, we applied an anonymous function (lambda function) to a line. We can define it explicitly if you prefer a more conventional syntax"
      ]
    },
    {
      "cell_type": "code",
      "metadata": {
        "id": "Wp36rDbMASEq",
        "colab_type": "code",
        "colab": {}
      },
      "source": [
        "def my_line_split_func(line):\n",
        "  return re.findall(r\"[a-zA-Z']+\", line)\n",
        "\n",
        "with beam.Pipeline() as pipeline:\n",
        "  (pipeline \n",
        "      | 'Read lines' >> beam.io.ReadFromText('data/small.txt')\n",
        "      | 'get words' >> beam.FlatMap(my_line_split_func)\n",
        "      | \"print\" >> beam.Map(myprint)\n",
        "  )\n"
      ],
      "execution_count": null,
      "outputs": []
    },
    {
      "cell_type": "markdown",
      "metadata": {
        "id": "XEcvVGs7A7Pn",
        "colab_type": "text"
      },
      "source": [
        "### Tutorial\n",
        "\n"
      ]
    },
    {
      "cell_type": "code",
      "metadata": {
        "id": "Qv3p_48aA9jO",
        "colab_type": "code",
        "colab": {}
      },
      "source": [
        "! echo -e 'r1c1,r1c2,2020/03/05\\nr2c1,r2c2,2020/03/23' > data/play.csv\n"
      ],
      "execution_count": null,
      "outputs": []
    },
    {
      "cell_type": "code",
      "metadata": {
        "id": "C76uqodZBPUl",
        "colab_type": "code",
        "colab": {}
      },
      "source": [
        "\n",
        "class Transform(beam.DoFn):\n",
        "\n",
        "  # Use classes to perform transformations on your PCollections\n",
        "  # Yield or return the element(s) needed as input for the next transform\n",
        "  def process(self, element):\n",
        "    yield element\n",
        "\n",
        "\n",
        "with beam.Pipeline() as pipeline:\n",
        "  (pipeline \n",
        "      | 'Read lines' >> beam.io.ReadFromText('data/play.csv')\n",
        "      | 'format line' >> beam.ParDo(Transform())\n",
        "      | \"print\" >> beam.Map(myprint)\n",
        "  )\n",
        "\n",
        "\n",
        "result.wait_until_finish()"
      ],
      "execution_count": null,
      "outputs": []
    },
    {
      "cell_type": "code",
      "metadata": {
        "id": "j7nyDcnuJp2G",
        "colab_type": "code",
        "colab": {}
      },
      "source": [
        ""
      ],
      "execution_count": null,
      "outputs": []
    }
  ]
}